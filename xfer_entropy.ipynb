{
 "cells": [
  {
   "cell_type": "code",
   "execution_count": null,
   "metadata": {},
   "outputs": [],
   "source": [
    "import pandas as pd\n",
    "import matplotlib.pyplot as plt\n",
    "import math\n",
    "import numpy as np\n",
    "import seaborn as sns\n",
    "from collections import Counter\n",
    "df = pd.read_csv(r'C:\\Users\\matth\\PhD\\Fall 2024\\SSIE 501-SSE 440\\Programming\\ScrapingOutput\\DataCollector4\\blackbox_1.csv')"
   ]
  },
  {
   "cell_type": "code",
   "execution_count": null,
   "metadata": {},
   "outputs": [],
   "source": [
    "df2 = pd.read_csv(r'C:\\Users\\matth\\PhD\\Fall 2024\\SSIE 501-SSE 440\\Programming\\ScrapingOutput\\DataCollector4\\blackbox_2.csv')"
   ]
  },
  {
   "cell_type": "code",
   "execution_count": null,
   "metadata": {},
   "outputs": [],
   "source": [
    "all_colors = ['gru','lax','pty','icn','bru','hkg','las','jfk','lis','mex']\n",
    "\n",
    "colors = sorted(df['Q1-pos4'].unique())\n",
    "colors\n"
   ]
  },
  {
   "cell_type": "code",
   "execution_count": null,
   "metadata": {},
   "outputs": [],
   "source": [
    "df[200:1900].head()"
   ]
  },
  {
   "cell_type": "code",
   "execution_count": null,
   "metadata": {},
   "outputs": [],
   "source": [
    "X = list(df['Q4-pos354'])\n",
    "Y = list(df['Q4-pos356'])"
   ]
  },
  {
   "cell_type": "code",
   "execution_count": null,
   "metadata": {},
   "outputs": [],
   "source": [
    "def count_occurence(X,Y):\n",
    "    transistions = []\n",
    "    for t in range(1,len(X)):\n",
    "        transistions.append((Y[t],Y[t-1],X[t-1]))\n",
    "    return(Counter(transistions))\n",
    "\n",
    "def count_Y_occurences(Y):\n",
    "    transistions = []\n",
    "    for t in range(1,len(X)):\n",
    "        transistions.append((Y[t],Y[t-1]))\n",
    "    return(Counter(transistions))\n",
    "\n",
    "def transfer_entropy(X,Y):\n",
    "    joint_counts = count_occurence(X,Y)\n",
    "    Y_counts = count_Y_occurences(Y)\n",
    "    total_transitions = len(Y) - 1\n",
    "\n",
    "    te_sum = 0 \n",
    "\n",
    "    for (Y_t2,Y_t1,X_t1), joint_count in joint_counts.items():\n",
    "        print(f'Y_t2:{Y_t2}\\nY_t1:{Y_t1}\\nX_t1:{X_t1}')\n",
    "        print(f'Joint Counts:{joint_count}\\nY Counts:{Y_counts[(Y_t2,Y_t1)]}\\nTotal Transistions: {total_transitions}')\n",
    "        p_Y_given_YX = joint_count / total_transitions\n",
    "        p_Y_given_Y = Y_counts[(Y_t2,Y_t1)] / total_transitions\n",
    "        print(f'Probability of Y given previous states of Y and X is: {p_Y_given_YX}')\n",
    "        print(f'Probability of Y given previous states of Y: {p_Y_given_Y}')\n",
    "        if p_Y_given_YX > 0 and p_Y_given_Y > 0:\n",
    "            te_sum -= joint_count / total_transitions * np.log(p_Y_given_YX / p_Y_given_Y)\n",
    "        print('----------------------------------------------')\n",
    "    return te_sum\n"
   ]
  },
  {
   "cell_type": "code",
   "execution_count": null,
   "metadata": {},
   "outputs": [],
   "source": [
    "X = list(df.iloc[:,2])\n",
    "Y = list(df.iloc[:,3])\n",
    "\n",
    "transfer_entropy(X,Y)\n",
    "\n",
    "#entropies"
   ]
  },
  {
   "cell_type": "code",
   "execution_count": null,
   "metadata": {},
   "outputs": [],
   "source": [
    "df.columns[176]"
   ]
  },
  {
   "cell_type": "code",
   "execution_count": null,
   "metadata": {},
   "outputs": [],
   "source": [
    "strong_entropies = [] \n",
    "entropies = [] \n",
    "\n",
    "#x is the original, y is the one we are comparing to\n",
    "for i in range(1,df.shape[1]):\n",
    "    entropies = []\n",
    "    X = list(df.iloc[:,i])\n",
    "    for j in range(1,df.shape[1]):\n",
    "        if i == j:\n",
    "            entropies.append(0)\n",
    "        Y = list(df.iloc[:,j])\n",
    "        xfer_entropy = transfer_entropy(X,Y)\n",
    "        if xfer_entropy > 1.75:\n",
    "            strong_entropies.append(str(df.columns[i])+','+str(df.columns[j]))\n",
    "            #print('Strong Connection Identified!')\n",
    "        entropies.append(xfer_entropy)\n",
    "    #print(f'Calcualting the Transfer Entropy For Cell {i}')\n",
    "#strong_entropies\n",
    "            "
   ]
  },
  {
   "cell_type": "code",
   "execution_count": null,
   "metadata": {},
   "outputs": [],
   "source": [
    "len(strong_entropies)\n"
   ]
  },
  {
   "cell_type": "code",
   "execution_count": null,
   "metadata": {},
   "outputs": [],
   "source": [
    "compare_row = 8\n",
    "X = list(df.iloc[:,compare_row])\n",
    "entropies = []\n",
    "for i in range(1,df.shape[1]):\n",
    "    if i == compare_row:\n",
    "        entropies.append(0)\n",
    "        continue\n",
    "    Y = list(df.iloc[:,i])\n",
    "    entropies.append(transfer_entropy(X,Y))\n",
    "\n",
    "data_100 = entropies[:100]\n",
    "data_200 = entropies[100:200]\n",
    "data_300 = entropies[200:300]\n",
    "data_400 = entropies[300:400]\n",
    "\n",
    "\n",
    "\n",
    "q1 = np.reshape(data_100,(10,10))\n",
    "q2 = np.reshape(data_200,(10,10))\n",
    "q3 = np.reshape(data_300,(10,10))\n",
    "q4 = np.reshape(data_400,(10,10))\n",
    "\n",
    "figure,axis = plt.subplots(2,2, figsize=(9,9))\n",
    "plt.figure(figsize=(8, 8))\n",
    "sns.heatmap(q1, annot=True, fmt=\".1f\", cmap=\"Blues\", ax=axis[0,1])\n",
    "axis[0,1].set_title(\"Q1\")\n",
    "sns.heatmap(q2, annot=True, fmt=\".1f\", cmap=\"Blues\", ax=axis[0,0])\n",
    "axis[0,0].set_title(\"Q2\")\n",
    "sns.heatmap(q3, annot=True, fmt=\".1f\", cmap=\"Blues\", ax=axis[1,0])\n",
    "axis[1,0].set_title(\"Q3\")\n",
    "sns.heatmap(q4, annot=True, fmt=\".1f\", cmap=\"Blues\",  ax=axis[1,1])\n",
    "axis[1,1].set_title(\"Q4\")\n",
    "figure.suptitle(\"Transfer Entropy\")\n",
    "plt.show()"
   ]
  },
  {
   "cell_type": "code",
   "execution_count": null,
   "metadata": {},
   "outputs": [],
   "source": [
    "entropy=0\n",
    "entropies=[0] * 401\n",
    "num_df = 198\n",
    "strong_entropies = [] \n",
    "# #x is the original, y is the one we are comparing to\n",
    "# for i in range(1,df.shape[1]):\n",
    "#     entropies = []\n",
    "#     X = list(df.iloc[:,i])\n",
    "#     for j in range(1,df.shape[1]):\n",
    "#         if i == j:\n",
    "#             entropies.append(0)\n",
    "#         Y = list(df.iloc[:,j])\n",
    "#         xfer_entropy = transfer_entropy(X,Y)\n",
    "#         if xfer_entropy > 1.75:\n",
    "#             strong_entropies.append(str(df.columns[i])+','+str(df.columns[j]))\n",
    "#             #print('Strong Connection Identified!')\n",
    "#         entropies.append(xfer_entropy)\n",
    "#     #print(f'Calcualting the Transfer Entropy For Cell {i}')\n",
    "# #strong_entropies\n",
    "\n",
    "for df_counter in range(0, num_df):\n",
    "   if df_counter%20==0:\n",
    "        print(df_counter)\n",
    "   df = pd.read_csv(r'C:\\Users\\matth\\PhD\\Fall 2024\\SSIE 501-SSE 440\\Programming\\ScrapingOutput\\DataCollector4\\blackbox_'+str(df_counter)+'.csv')\n",
    "   X = list(df.iloc[:,398])\n",
    "   for i in range(1,df.shape[1]):\n",
    "      Y = list(df.iloc[:,i])\n",
    "      entropies[i-1]+=float(transfer_entropy(X,Y))\n",
    "\n",
    "entropies = [entropy/num_df for entropy in entropies]\n",
    "\n",
    "print(entropies)"
   ]
  },
  {
   "cell_type": "code",
   "execution_count": null,
   "metadata": {},
   "outputs": [],
   "source": [
    "data_100 = entropies[:100]\n",
    "data_200 = entropies[100:200]\n",
    "data_300 = entropies[200:300]\n",
    "data_400 = entropies[300:400]\n",
    "\n",
    "\n",
    "\n",
    "q1 = np.reshape(data_100,(10,10))\n",
    "q2 = np.reshape(data_200,(10,10))\n",
    "q3 = np.reshape(data_300,(10,10))\n",
    "q4 = np.reshape(data_400,(10,10))\n",
    "\n",
    "figure,axis = plt.subplots(2,2, figsize=(9,9))\n",
    "plt.figure(figsize=(8, 8))\n",
    "sns.heatmap(q1, annot=True, fmt=\".1f\", cmap=\"Blues\", ax=axis[0,1])\n",
    "axis[0,1].set_title(\"Q1\")\n",
    "sns.heatmap(q2, annot=True, fmt=\".1f\", cmap=\"Blues\", ax=axis[0,0])\n",
    "axis[0,0].set_title(\"Q2\")\n",
    "sns.heatmap(q3, annot=True, fmt=\".1f\", cmap=\"Blues\", ax=axis[1,0])\n",
    "axis[1,0].set_title(\"Q3\")\n",
    "sns.heatmap(q4, annot=True, fmt=\".1f\", cmap=\"Blues\",  ax=axis[1,1])\n",
    "axis[1,1].set_title(\"Q4\")\n",
    "figure.suptitle(\"Entropy for Every Cell in the Matrix for One Run\")\n",
    "plt.show()"
   ]
  }
 ],
 "metadata": {
  "kernelspec": {
   "display_name": "base",
   "language": "python",
   "name": "python3"
  },
  "language_info": {
   "codemirror_mode": {
    "name": "ipython",
    "version": 3
   },
   "file_extension": ".py",
   "mimetype": "text/x-python",
   "name": "python",
   "nbconvert_exporter": "python",
   "pygments_lexer": "ipython3",
   "version": "3.11.7"
  }
 },
 "nbformat": 4,
 "nbformat_minor": 2
}
