{
 "cells": [
  {
   "cell_type": "code",
   "execution_count": 26,
   "metadata": {},
   "outputs": [
    {
     "data": {
      "text/plain": [
       "{'bru': 6,\n",
       " 'gru': 0,\n",
       " 'hkg': 7,\n",
       " 'icn': 8,\n",
       " 'jfk': 2,\n",
       " 'las': 4,\n",
       " 'lax': 3,\n",
       " 'lis': 5,\n",
       " 'mex': 9,\n",
       " 'pty': 1}"
      ]
     },
     "execution_count": 26,
     "metadata": {},
     "output_type": "execute_result"
    }
   ],
   "source": [
    "import pandas as pd\n",
    "import matplotlib.pyplot as plt\n",
    "import math\n",
    "import numpy as np\n",
    "import seaborn as sns \n",
    "\n",
    "colors = ['bru', 'gru', 'hkg', 'icn', 'jfk', 'las', 'lax', 'lis', 'mex', 'pty']\n",
    "numeric = [6,0,7,8,2,4,3,5,9,1]\n",
    "\n",
    "colors_to_num = dict(zip(colors,numeric))\n",
    "\n",
    "colors_to_num"
   ]
  },
  {
   "cell_type": "code",
   "execution_count": 47,
   "metadata": {},
   "outputs": [],
   "source": [
    "df = pd.read_csv(r'C:\\Users\\matth\\PhD\\Fall 2024\\SSIE 501-SSE 440\\Programming\\ScrapingOutput\\DataCollector4\\blackbox_0.csv')\n",
    "row = list(df.iloc[2000,1:])"
   ]
  },
  {
   "cell_type": "code",
   "execution_count": 48,
   "metadata": {},
   "outputs": [],
   "source": [
    "data_100 = row[:100]\n",
    "data_200 = row[100:200]\n",
    "data_300 = row[200:300]\n",
    "data_400 = row[300:400]\n",
    "\n",
    "data_100 = [colors_to_num[entry] for entry in data_100]\n",
    "data_200 = [colors_to_num[entry] for entry in data_200]\n",
    "data_300 = [colors_to_num[entry] for entry in data_300]\n",
    "data_400 = [colors_to_num[entry] for entry in data_400]\n",
    "\n",
    "q1 = np.reshape(data_100,(10,10))\n",
    "q2 = np.reshape(data_200,(10,10))\n",
    "q3 = np.reshape(data_300,(10,10))\n",
    "q4 = np.reshape(data_400,(10,10))"
   ]
  },
  {
   "cell_type": "code",
   "execution_count": 49,
   "metadata": {},
   "outputs": [
    {
     "data": {
      "text/plain": [
       "array([[0, 0, 0, 0, 0, 0, 0, 0, 0, 0],\n",
       "       [0, 0, 0, 0, 0, 0, 0, 0, 0, 0],\n",
       "       [0, 0, 0, 0, 0, 0, 0, 0, 0, 0],\n",
       "       [0, 0, 0, 0, 0, 0, 0, 0, 0, 0],\n",
       "       [0, 0, 0, 0, 0, 0, 0, 0, 0, 0],\n",
       "       [0, 0, 0, 0, 0, 0, 0, 0, 0, 0],\n",
       "       [0, 0, 0, 0, 0, 0, 0, 0, 0, 0],\n",
       "       [0, 0, 0, 0, 0, 0, 0, 0, 0, 0],\n",
       "       [0, 0, 0, 0, 0, 0, 0, 0, 0, 0],\n",
       "       [0, 0, 0, 0, 0, 0, 0, 0, 0, 0]])"
      ]
     },
     "execution_count": 49,
     "metadata": {},
     "output_type": "execute_result"
    }
   ],
   "source": [
    "q1"
   ]
  },
  {
   "cell_type": "code",
   "execution_count": 54,
   "metadata": {},
   "outputs": [
    {
     "name": "stdout",
     "output_type": "stream",
     "text": [
      "The sum of rows is 0 \n",
      " The sum of cols is 0\n"
     ]
    }
   ],
   "source": [
    "sumrows = 0 \n",
    "for i in range(q1.shape[0]):\n",
    "    sumrows += sum(q1[i])\n",
    "\n",
    "sumcols = 0 \n",
    "for i in range(q1.shape[0]):\n",
    "    for j in range(q1.shape[0]):\n",
    "        sumcols += q1[j][i]\n",
    "print(f\"The sum of rows is {sumrows} \\n The sum of cols is {sumcols}\")    \n",
    "    "
   ]
  },
  {
   "cell_type": "code",
   "execution_count": 55,
   "metadata": {},
   "outputs": [
    {
     "name": "stdout",
     "output_type": "stream",
     "text": [
      "The sum of rows is 196 \n",
      " The sum of cols is 196\n"
     ]
    }
   ],
   "source": [
    "sumrows = 0 \n",
    "for i in range(q2.shape[0]):\n",
    "    sumrows += sum(q2[i])\n",
    "\n",
    "sumcols = 0 \n",
    "for i in range(q2.shape[0]):\n",
    "    for j in range(q2.shape[0]):\n",
    "        sumcols += q2[j][i]\n",
    "print(f\"The sum of rows is {sumrows} \\n The sum of cols is {sumcols}\")"
   ]
  },
  {
   "cell_type": "code",
   "execution_count": 56,
   "metadata": {},
   "outputs": [
    {
     "name": "stdout",
     "output_type": "stream",
     "text": [
      "The sum of rows is 627 \n",
      " The sum of cols is 627\n"
     ]
    }
   ],
   "source": [
    "sumrows = 0 \n",
    "for i in range(q3.shape[0]):\n",
    "    sumrows += sum(q3[i])\n",
    "\n",
    "sumcols = 0 \n",
    "for i in range(q3.shape[0]):\n",
    "    for j in range(q3.shape[0]):\n",
    "        sumcols += q3[j][i]\n",
    "print(f\"The sum of rows is {sumrows} \\n The sum of cols is {sumcols}\")"
   ]
  },
  {
   "cell_type": "code",
   "execution_count": 57,
   "metadata": {},
   "outputs": [
    {
     "name": "stdout",
     "output_type": "stream",
     "text": [
      "The sum of rows is 745 \n",
      " The sum of cols is 745\n"
     ]
    }
   ],
   "source": [
    "sumrows = 0 \n",
    "for i in range(q4.shape[0]):\n",
    "    sumrows += sum(q4[i])\n",
    "\n",
    "sumcols = 0 \n",
    "for i in range(q4.shape[0]):\n",
    "    for j in range(q4.shape[0]):\n",
    "        sumcols += q4[j][i]\n",
    "print(f\"The sum of rows is {sumrows} \\n The sum of cols is {sumcols}\")"
   ]
  },
  {
   "cell_type": "code",
   "execution_count": 42,
   "metadata": {},
   "outputs": [
    {
     "data": {
      "text/plain": [
       "427"
      ]
     },
     "execution_count": 42,
     "metadata": {},
     "output_type": "execute_result"
    }
   ],
   "source": [
    "sumcols"
   ]
  },
  {
   "cell_type": "code",
   "execution_count": null,
   "metadata": {},
   "outputs": [],
   "source": []
  }
 ],
 "metadata": {
  "kernelspec": {
   "display_name": "base",
   "language": "python",
   "name": "python3"
  },
  "language_info": {
   "codemirror_mode": {
    "name": "ipython",
    "version": 3
   },
   "file_extension": ".py",
   "mimetype": "text/x-python",
   "name": "python",
   "nbconvert_exporter": "python",
   "pygments_lexer": "ipython3",
   "version": "3.11.7"
  }
 },
 "nbformat": 4,
 "nbformat_minor": 2
}
