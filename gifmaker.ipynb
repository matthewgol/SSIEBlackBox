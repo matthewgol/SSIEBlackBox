{
 "cells": [
  {
   "cell_type": "code",
   "execution_count": 18,
   "metadata": {},
   "outputs": [
    {
     "name": "stdout",
     "output_type": "stream",
     "text": [
      "GIF created at: C:\\Users\\matth\\PhD\\Fall 2024\\SSIE 501-SSE 440\\Programming\\Gifs\\Full_Transfer_Entropy.gif\n"
     ]
    }
   ],
   "source": [
    "from PIL import Image\n",
    "import os\n",
    "from moviepy.editor import ImageSequenceClip\n",
    "\n",
    "# Set the directory containing JPG files\n",
    "folder_path = r'C:\\Users\\matth\\PhD\\Fall 2024\\SSIE 501-SSE 440\\Programming\\BlackBox1_Full_Transfer_Entropy\\\\'\n",
    "# Set the output GIF file name\n",
    "output_gif = r'C:\\Users\\matth\\PhD\\Fall 2024\\SSIE 501-SSE 440\\Programming\\Gifs\\Full_Transfer_Entropy.gif'\n",
    "\n",
    "# Load all JPG images from the folder\n",
    "images = []\n",
    "# for file_name in sorted(os.listdir(folder_path)):\n",
    "#     if file_name.endswith(\".jpg\"):\n",
    "#         file_path = os.path.join(folder_path, file_name)\n",
    "#         images.append(Image.open(file_path))\n",
    "\n",
    "# print(images)\n",
    "\n",
    "\n",
    "files = [f for f in os.listdir(folder_path) if os.path.isfile(os.path.join(folder_path, f))]\n",
    "#print(files)\n",
    "\n",
    "# Sort the files by last modified time (ascending order)\n",
    "sorted_files = sorted(files, key=lambda x: os.path.getmtime(os.path.join(folder_path, x)))\n",
    "\n",
    "for file in sorted_files:\n",
    "    images.append(Image.open(os.path.join(folder_path,file)))\n",
    "\n",
    "# Ensure there are images to process\n",
    "if not images:\n",
    "    raise ValueError(\"No JPG images found in the specified folder.\")\n",
    "\n",
    "# Save the images as a GIF\n",
    "# Adjust 'duration' to control the delay between frames (in milliseconds)\n",
    "images[0].save(\n",
    "    output_gif,\n",
    "    save_all=True,\n",
    "    append_images=images[1:],\n",
    "    loop=0,  # Set loop to 0 for infinite looping\n",
    "    duration=100  # Duration between frames (200ms per frame)\n",
    ")\n",
    "\n",
    "print(f\"GIF created at: {output_gif}\")"
   ]
  }
 ],
 "metadata": {
  "kernelspec": {
   "display_name": "base",
   "language": "python",
   "name": "python3"
  },
  "language_info": {
   "codemirror_mode": {
    "name": "ipython",
    "version": 3
   },
   "file_extension": ".py",
   "mimetype": "text/x-python",
   "name": "python",
   "nbconvert_exporter": "python",
   "pygments_lexer": "ipython3",
   "version": "3.11.7"
  }
 },
 "nbformat": 4,
 "nbformat_minor": 2
}
