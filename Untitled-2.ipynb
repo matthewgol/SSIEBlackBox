{
 "cells": [
  {
   "cell_type": "code",
   "execution_count": 1,
   "metadata": {},
   "outputs": [],
   "source": [
    "import pandas as pd\n",
    "import matplotlib.pyplot as plt"
   ]
  },
  {
   "cell_type": "code",
   "execution_count": 7,
   "metadata": {},
   "outputs": [
    {
     "name": "stdout",
     "output_type": "stream",
     "text": [
      "[11, 13, 14, 12]\n",
      "1318\n",
      "[9, 17, 5, 12]\n",
      "1364\n",
      "[11, 16, 10, 6]\n",
      "1754\n",
      "[8, 17, 7, 6]\n",
      "1088\n",
      "[8, 5, 10, 10]\n",
      "1906\n",
      "[14, 8, 11, 11]\n",
      "1241\n",
      "[7, 15, 6, 16]\n",
      "1035\n",
      "[12, 9, 12, 11]\n",
      "1646\n",
      "[7, 9, 9, 10]\n",
      "2000\n",
      "[12, 6, 14, 5]\n",
      "1522\n",
      "[10, 9, 14, 10]\n",
      "1873\n",
      "[10, 13, 12, 9]\n",
      "1450\n",
      "[10, 8, 9, 8]\n",
      "1123\n",
      "[16, 14, 7, 8]\n",
      "1314\n",
      "[12, 11, 9, 10]\n",
      "2000\n",
      "[16, 11, 7, 8]\n",
      "1764\n",
      "[14, 14, 10, 9]\n",
      "2000\n",
      "[9, 6, 10, 9]\n",
      "2000\n",
      "[10, 12, 11, 8]\n",
      "1516\n",
      "[9, 7, 8, 15]\n",
      "1175\n"
     ]
    }
   ],
   "source": [
    "for i in range(0,20):\n",
    "    df = pd.read_csv(r'C:\\Users\\matth\\PhD\\Fall 2024\\SSIE 501-SSE 440\\Programming\\ScrapingOutput\\DataCollector4\\blackbox_'+str(i)+'.csv')\n",
    "    df.head()\n",
    "    count_gru_ic = []\n",
    "    for i in range(0,400,100):\n",
    "        row_chunk  = df.iloc[0,i:i+100]\n",
    "        count_gru = row_chunk.astype(str).str.contains('gru').sum()\n",
    "        count_gru_ic.append(count_gru)\n",
    "    print(count_gru_ic)\n",
    "\n",
    "    cols_needed = []\n",
    "    for i in range(0,100):\n",
    "        cols_needed.append('Q1-pos'+str(i))\n",
    "    dfQ1 = df[cols_needed]\n",
    "    yourdf1 = dfQ1[dfQ1[cols_needed].nunique(axis=1) == 1]\n",
    "    steps_to_get_black = 2000-yourdf1.shape[0]\n",
    "    print(steps_to_get_black)\n"
   ]
  },
  {
   "cell_type": "code",
   "execution_count": null,
   "metadata": {},
   "outputs": [],
   "source": []
  }
 ],
 "metadata": {
  "kernelspec": {
   "display_name": "base",
   "language": "python",
   "name": "python3"
  },
  "language_info": {
   "codemirror_mode": {
    "name": "ipython",
    "version": 3
   },
   "file_extension": ".py",
   "mimetype": "text/x-python",
   "name": "python",
   "nbconvert_exporter": "python",
   "pygments_lexer": "ipython3",
   "version": "3.11.7"
  }
 },
 "nbformat": 4,
 "nbformat_minor": 2
}
